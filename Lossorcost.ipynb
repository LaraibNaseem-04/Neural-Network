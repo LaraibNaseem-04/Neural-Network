{
 "cells": [
  {
   "cell_type": "code",
   "execution_count": 1,
   "id": "240e15d3-aed5-4787-9609-a2576e6b8527",
   "metadata": {},
   "outputs": [],
   "source": [
    "import numpy as np "
   ]
  },
  {
   "cell_type": "code",
   "execution_count": 5,
   "id": "217aefee-0292-4027-a698-b91e2baa8a01",
   "metadata": {},
   "outputs": [],
   "source": [
    "y_predicted = np.array([1,1,0,0,1])\n",
    "y_true = np.array([0.30,0.7,1,0,0.5])"
   ]
  },
  {
   "cell_type": "code",
   "execution_count": 15,
   "id": "03a6276d-ee6f-4ca8-921c-caddfe7fc4a3",
   "metadata": {},
   "outputs": [],
   "source": [
    "def mae(y_true,y_predicted):\n",
    "    n = len(y_predicted)\n",
    "    Terror = 0\n",
    "    for yt,yp in zip(y_true,y_predicted):\n",
    "         Terror += abs(yt-yp)\n",
    "    Terror = Terror/n\n",
    "    print(Terror)\n",
    "\n"
   ]
  },
  {
   "cell_type": "code",
   "execution_count": 17,
   "id": "8f444e15-f119-402f-99e0-dc1ef9b40c18",
   "metadata": {},
   "outputs": [
    {
     "name": "stdout",
     "output_type": "stream",
     "text": [
      "0.5\n"
     ]
    }
   ],
   "source": [
    "mae(y_true,y_predicted)"
   ]
  },
  {
   "cell_type": "code",
   "execution_count": 19,
   "id": "c860f0c7-a83a-417a-aa89-90f74c943465",
   "metadata": {},
   "outputs": [],
   "source": [
    "#Numpy can do all the work easily that we did above"
   ]
  },
  {
   "cell_type": "code",
   "execution_count": 25,
   "id": "0bb2662f-174f-4f56-ae68-e74940042555",
   "metadata": {},
   "outputs": [
    {
     "data": {
      "text/plain": [
       "0.5"
      ]
     },
     "execution_count": 25,
     "metadata": {},
     "output_type": "execute_result"
    }
   ],
   "source": [
    "np.mean(np.abs(y_true-y_predicted))"
   ]
  },
  {
   "cell_type": "markdown",
   "id": "962fac3b-023b-4322-b03e-7ad6bbcd8f34",
   "metadata": {},
   "source": [
    "<h1>Log Loss implementation </h1>"
   ]
  },
  {
   "cell_type": "code",
   "execution_count": 123,
   "id": "1089c480-3a03-49d6-9774-b13126dcbe7a",
   "metadata": {},
   "outputs": [],
   "source": [
    "epsilon = 1e-15"
   ]
  },
  {
   "cell_type": "code",
   "execution_count": 143,
   "id": "1567be1e-5bcd-40b8-85d9-13811a5a1fea",
   "metadata": {},
   "outputs": [],
   "source": [
    "y_predicted_new = [max(i,epsilon) for i in y_predicted]"
   ]
  },
  {
   "cell_type": "code",
   "execution_count": 145,
   "id": "e465f1f3-e31f-4a6c-aa90-8665457d4fa0",
   "metadata": {},
   "outputs": [
    {
     "data": {
      "text/plain": [
       "[1, 1, 1e-15, 1e-15, 1]"
      ]
     },
     "execution_count": 145,
     "metadata": {},
     "output_type": "execute_result"
    }
   ],
   "source": [
    "y_predicted_new"
   ]
  },
  {
   "cell_type": "code",
   "execution_count": 147,
   "id": "e268fe04-2e7c-425b-bdc2-2684ac0a7cf2",
   "metadata": {},
   "outputs": [],
   "source": [
    "y_predicted_new = [min(i,1-epsilon) for i in y_predicted_new]"
   ]
  },
  {
   "cell_type": "code",
   "execution_count": 149,
   "id": "4b738f4c-e9eb-4c31-be8c-75909487ce2a",
   "metadata": {},
   "outputs": [
    {
     "data": {
      "text/plain": [
       "[0.999999999999999, 0.999999999999999, 1e-15, 1e-15, 0.999999999999999]"
      ]
     },
     "execution_count": 149,
     "metadata": {},
     "output_type": "execute_result"
    }
   ],
   "source": [
    "y_predicted_new"
   ]
  },
  {
   "cell_type": "code",
   "execution_count": 151,
   "id": "8eb11aac-a6c7-47c2-be01-e3f85b850a22",
   "metadata": {},
   "outputs": [],
   "source": [
    "y_predicted_new = np.array(y_predicted_new)"
   ]
  },
  {
   "cell_type": "code",
   "execution_count": 153,
   "id": "19a34c8a-94b6-44b4-95e6-b4a0d390d135",
   "metadata": {},
   "outputs": [
    {
     "data": {
      "text/plain": [
       "array([-9.99200722e-16, -9.99200722e-16, -3.45387764e+01, -3.45387764e+01,\n",
       "       -9.99200722e-16])"
      ]
     },
     "execution_count": 153,
     "metadata": {},
     "output_type": "execute_result"
    }
   ],
   "source": [
    "np.log(y_predicted_new)"
   ]
  },
  {
   "cell_type": "code",
   "execution_count": 161,
   "id": "3a26d49f-173c-4224-a113-bfbb3d6bf18f",
   "metadata": {},
   "outputs": [
    {
     "data": {
      "text/plain": [
       "9.992007221626415e-16"
      ]
     },
     "execution_count": 161,
     "metadata": {},
     "output_type": "execute_result"
    }
   ],
   "source": [
    "-np.mean(y_true * np.log(y_predicted_new) + (1 - y_true) * np.log(1 - y_predicted_new))"
   ]
  },
  {
   "cell_type": "code",
   "execution_count": 159,
   "id": "2849caa5-93c2-4096-a861-f097f01a24f0",
   "metadata": {},
   "outputs": [
    {
     "data": {
      "text/plain": [
       "9.992007221626415e-16"
      ]
     },
     "execution_count": 159,
     "metadata": {},
     "output_type": "execute_result"
    }
   ],
   "source": []
  },
  {
   "cell_type": "code",
   "execution_count": null,
   "id": "a96abcbc-f2cb-4ead-b428-0fecbab3f52c",
   "metadata": {},
   "outputs": [],
   "source": []
  }
 ],
 "metadata": {
  "kernelspec": {
   "display_name": "Python [conda env:base] *",
   "language": "python",
   "name": "conda-base-py"
  },
  "language_info": {
   "codemirror_mode": {
    "name": "ipython",
    "version": 3
   },
   "file_extension": ".py",
   "mimetype": "text/x-python",
   "name": "python",
   "nbconvert_exporter": "python",
   "pygments_lexer": "ipython3",
   "version": "3.12.7"
  }
 },
 "nbformat": 4,
 "nbformat_minor": 5
}
