{
 "cells": [
  {
   "cell_type": "code",
   "execution_count": 1,
   "id": "b7c0e4dd-13cc-4a99-a71c-e82e3082fc59",
   "metadata": {},
   "outputs": [],
   "source": [
    "import math\n",
    "def sigmoid(x):\n",
    "    return 1/(1+math.exp(-x))"
   ]
  },
  {
   "cell_type": "code",
   "execution_count": 2,
   "id": "e4403b7f-aca3-457c-ab31-cce16ec9c942",
   "metadata": {},
   "outputs": [
    {
     "data": {
      "text/plain": [
       "1.0"
      ]
     },
     "execution_count": 2,
     "metadata": {},
     "output_type": "execute_result"
    }
   ],
   "source": [
    "sigmoid(100)"
   ]
  },
  {
   "cell_type": "code",
   "execution_count": 3,
   "id": "ed0c3312-9caa-46d6-a36d-5f05239a1e31",
   "metadata": {},
   "outputs": [
    {
     "data": {
      "text/plain": [
       "2.4889188336286325e-198"
      ]
     },
     "execution_count": 3,
     "metadata": {},
     "output_type": "execute_result"
    }
   ],
   "source": [
    "sigmoid(-455)"
   ]
  },
  {
   "cell_type": "code",
   "execution_count": 7,
   "id": "2d5975f0-7933-429b-9d2c-70d227d51c93",
   "metadata": {},
   "outputs": [],
   "source": [
    "def TanH(x):\n",
    "    return (math.exp(x)-math.exp(-x))/(math.exp(x)+math.exp(-x))"
   ]
  },
  {
   "cell_type": "code",
   "execution_count": 8,
   "id": "81fe8171-e831-418c-b4f7-5c20fda28de9",
   "metadata": {},
   "outputs": [
    {
     "data": {
      "text/plain": [
       "-1.0"
      ]
     },
     "execution_count": 8,
     "metadata": {},
     "output_type": "execute_result"
    }
   ],
   "source": [
    "TanH(-20)"
   ]
  },
  {
   "cell_type": "code",
   "execution_count": 9,
   "id": "1adc9736-27e4-432e-8767-e55d2eaa2578",
   "metadata": {},
   "outputs": [
    {
     "data": {
      "text/plain": [
       "-1.0"
      ]
     },
     "execution_count": 9,
     "metadata": {},
     "output_type": "execute_result"
    }
   ],
   "source": [
    "TanH(-56)"
   ]
  },
  {
   "cell_type": "code",
   "execution_count": 10,
   "id": "bd027bc1-9235-4bc0-a849-0eb434cc3c85",
   "metadata": {},
   "outputs": [
    {
     "data": {
      "text/plain": [
       "1.0"
      ]
     },
     "execution_count": 10,
     "metadata": {},
     "output_type": "execute_result"
    }
   ],
   "source": [
    "TanH(56)"
   ]
  },
  {
   "cell_type": "code",
   "execution_count": 11,
   "id": "54f7dbdb-38dc-4d41-bb2f-249c1ed6f0db",
   "metadata": {},
   "outputs": [],
   "source": [
    "def RelU(x):\n",
    "    return max(0,x)"
   ]
  },
  {
   "cell_type": "code",
   "execution_count": 12,
   "id": "958ef3fd-2a4f-4dea-83d6-67ea3f80298c",
   "metadata": {},
   "outputs": [
    {
     "data": {
      "text/plain": [
       "39"
      ]
     },
     "execution_count": 12,
     "metadata": {},
     "output_type": "execute_result"
    }
   ],
   "source": [
    "RelU(39)"
   ]
  },
  {
   "cell_type": "code",
   "execution_count": 13,
   "id": "f1b630cf-fd0a-40cc-9a8b-14083d7afb55",
   "metadata": {},
   "outputs": [
    {
     "data": {
      "text/plain": [
       "0"
      ]
     },
     "execution_count": 13,
     "metadata": {},
     "output_type": "execute_result"
    }
   ],
   "source": [
    "RelU(-2)"
   ]
  },
  {
   "cell_type": "code",
   "execution_count": 14,
   "id": "1a10040d-910d-4b21-9276-a40273649c82",
   "metadata": {},
   "outputs": [],
   "source": [
    "def LeakyRelU(x):\n",
    "    return max(0.1*x,x)"
   ]
  },
  {
   "cell_type": "code",
   "execution_count": 15,
   "id": "10bde55b-73a8-4085-b7f0-8c054bf7d5ff",
   "metadata": {},
   "outputs": [
    {
     "data": {
      "text/plain": [
       "45"
      ]
     },
     "execution_count": 15,
     "metadata": {},
     "output_type": "execute_result"
    }
   ],
   "source": [
    "LeakyRelU(45)"
   ]
  },
  {
   "cell_type": "code",
   "execution_count": 17,
   "id": "0b6ebf23-3bd6-46c3-959c-cf2379f877ce",
   "metadata": {},
   "outputs": [
    {
     "data": {
      "text/plain": [
       "-4.5"
      ]
     },
     "execution_count": 17,
     "metadata": {},
     "output_type": "execute_result"
    }
   ],
   "source": [
    "LeakyRelU(-45)"
   ]
  },
  {
   "cell_type": "code",
   "execution_count": null,
   "id": "80382236-f283-4d2f-8077-3e27845c938a",
   "metadata": {},
   "outputs": [],
   "source": []
  }
 ],
 "metadata": {
  "kernelspec": {
   "display_name": "Python 3 (ipykernel)",
   "language": "python",
   "name": "python3"
  },
  "language_info": {
   "codemirror_mode": {
    "name": "ipython",
    "version": 3
   },
   "file_extension": ".py",
   "mimetype": "text/x-python",
   "name": "python",
   "nbconvert_exporter": "python",
   "pygments_lexer": "ipython3",
   "version": "3.12.7"
  }
 },
 "nbformat": 4,
 "nbformat_minor": 5
}
